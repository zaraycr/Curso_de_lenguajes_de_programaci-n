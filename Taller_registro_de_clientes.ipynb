{
  "nbformat": 4,
  "nbformat_minor": 0,
  "metadata": {
    "colab": {
      "provenance": [],
      "authorship_tag": "ABX9TyPLXWgfMITPWJcqHPcu3mIf",
      "include_colab_link": true
    },
    "kernelspec": {
      "name": "python3",
      "display_name": "Python 3"
    },
    "language_info": {
      "name": "python"
    }
  },
  "cells": [
    {
      "cell_type": "markdown",
      "metadata": {
        "id": "view-in-github",
        "colab_type": "text"
      },
      "source": [
        "<a href=\"https://colab.research.google.com/github/zaraycr/Curso_de_lenguajes_de_programaci-n/blob/main/Taller_registro_de_clientes.ipynb\" target=\"_parent\"><img src=\"https://colab.research.google.com/assets/colab-badge.svg\" alt=\"Open In Colab\"/></a>"
      ]
    },
    {
      "cell_type": "code",
      "execution_count": 3,
      "metadata": {
        "colab": {
          "base_uri": "https://localhost:8080/"
        },
        "id": "1pqClTj7-1rn",
        "outputId": "cb02733f-da8c-4fc1-c563-945472c840ff"
      },
      "outputs": [
        {
          "output_type": "stream",
          "name": "stdout",
          "text": [
            "['Juan Perez', 'María Rodriguez', 'Carlos Lopez']\n",
            "[10000, 15000, 20000]\n",
            "[5.0, 6.5, 7.0]\n"
          ]
        }
      ],
      "source": [
        "Clientes = [\"Juan Perez\", \"María Rodriguez\", \"Carlos Lopez\"]\n",
        "print(Clientes)\n",
        "Montos_invertidos = [10000, 15000, 20000] # en dólares\n",
        "print(Montos_invertidos)\n",
        "Rendimientos = [5.0, 6.5, 7.0] # en porcentaje\n",
        "print(Rendimientos)"
      ]
    },
    {
      "cell_type": "code",
      "source": [
        "tupla_1= (\"Juan Perez\", 100000, 5.0)\n",
        "tupla_1"
      ],
      "metadata": {
        "colab": {
          "base_uri": "https://localhost:8080/"
        },
        "id": "ZvE2sbc1_yMP",
        "outputId": "b502629c-0477-489b-e98a-bf12c01de729"
      },
      "execution_count": 8,
      "outputs": [
        {
          "output_type": "execute_result",
          "data": {
            "text/plain": [
              "('Juan Perez', 100000, 5.0)"
            ]
          },
          "metadata": {},
          "execution_count": 8
        }
      ]
    },
    {
      "cell_type": "code",
      "source": [
        "tupla_2= (\"María Rodriguez\", 15000, 6.5)\n",
        "tupla_2"
      ],
      "metadata": {
        "colab": {
          "base_uri": "https://localhost:8080/"
        },
        "id": "1X21X9vTBEpC",
        "outputId": "0627e3cd-3a04-4b04-bca6-035a56172306"
      },
      "execution_count": 9,
      "outputs": [
        {
          "output_type": "execute_result",
          "data": {
            "text/plain": [
              "('María Rodriguez', 15000, 6.5)"
            ]
          },
          "metadata": {},
          "execution_count": 9
        }
      ]
    },
    {
      "cell_type": "code",
      "source": [
        "tupla_3= (\"Carlos Lopez\", 20000, 7.0)\n",
        "tupla_3"
      ],
      "metadata": {
        "colab": {
          "base_uri": "https://localhost:8080/"
        },
        "id": "d9e-9PlLBQDO",
        "outputId": "1c48e3ac-cddf-4457-bba4-ed05b45ec967"
      },
      "execution_count": 10,
      "outputs": [
        {
          "output_type": "execute_result",
          "data": {
            "text/plain": [
              "('Carlos Lopez', 20000, 7.0)"
            ]
          },
          "metadata": {},
          "execution_count": 10
        }
      ]
    },
    {
      "cell_type": "code",
      "source": [
        "Registro_clientes = {\n",
        "\n",
        "   \"Juan Perez\": {\"monto_invertido\": 10000, \"rendimiento\": 5.0},\n",
        "   \"Maria Rodriguez\": {\"monto_invertido\": 15000, \"rendimiento\": 6.5},\n",
        "   \"Carlos Lopez\": {\"monto_invertido\": 20000, \"rendimiento\": 7.0},\n",
        "}\n",
        "\n",
        "print(type(Registro_clientes))\n",
        "print(Registro_clientes)"
      ],
      "metadata": {
        "colab": {
          "base_uri": "https://localhost:8080/"
        },
        "id": "mgbYGrjnHiHv",
        "outputId": "1b061478-fe8c-4b41-d0a1-c392c9e840ab"
      },
      "execution_count": 31,
      "outputs": [
        {
          "output_type": "stream",
          "name": "stdout",
          "text": [
            "<class 'dict'>\n",
            "{'Juan Perez': {'monto_invertido': 10000, 'rendimiento': 5.0}, 'Maria Rodriguez': {'monto_invertido': 15000, 'rendimiento': 6.5}, 'Carlos Lopez': {'monto_invertido': 20000, 'rendimiento': 7.0}}\n"
          ]
        }
      ]
    },
    {
      "cell_type": "code",
      "source": [
        "print(Registro_clientes.keys())"
      ],
      "metadata": {
        "colab": {
          "base_uri": "https://localhost:8080/"
        },
        "id": "Jxvvb41s-uwh",
        "outputId": "895b254a-95f6-43f7-b02d-1c23dd4777fe"
      },
      "execution_count": 18,
      "outputs": [
        {
          "output_type": "stream",
          "name": "stdout",
          "text": [
            "dict_keys(['Juan Perez', 'Maria Rodriguez', 'Carlos Lopez'])\n"
          ]
        }
      ]
    },
    {
      "cell_type": "code",
      "source": [
        "list_cl= list(Registro_clientes.keys())\n",
        "print(Registro_clientes) # se puede ver como lista"
      ],
      "metadata": {
        "colab": {
          "base_uri": "https://localhost:8080/"
        },
        "id": "9BWDXAXzCq2p",
        "outputId": "b6a0bce1-0849-4a7e-ba36-71368626dedb"
      },
      "execution_count": 19,
      "outputs": [
        {
          "output_type": "stream",
          "name": "stdout",
          "text": [
            "{'Juan Perez': {'monto_invertido': 10000, 'rendimiento': 5.0}, 'Maria Rodriguez': {'monto_invertido': 15000, 'rendimiento': 6.5}, 'Carlos Lopez': {'monto_invertido': 20000, 'rendimiento': 7.0}}\n"
          ]
        }
      ]
    },
    {
      "cell_type": "code",
      "source": [
        "print(list(Registro_clientes.keys())[0])"
      ],
      "metadata": {
        "colab": {
          "base_uri": "https://localhost:8080/"
        },
        "id": "dU4M3XOEDPW5",
        "outputId": "308a6934-1344-43c1-ae22-cdd11e4cb3e5"
      },
      "execution_count": 20,
      "outputs": [
        {
          "output_type": "stream",
          "name": "stdout",
          "text": [
            "Juan Perez\n"
          ]
        }
      ]
    },
    {
      "cell_type": "code",
      "source": [
        "print(Registro_clientes[\"Maria Rodriguez\"])"
      ],
      "metadata": {
        "colab": {
          "base_uri": "https://localhost:8080/"
        },
        "id": "M5XE15MoIrqb",
        "outputId": "76643b1f-a95e-407f-fb90-bddefb76ab28"
      },
      "execution_count": 21,
      "outputs": [
        {
          "output_type": "stream",
          "name": "stdout",
          "text": [
            "{'monto_invertido': 15000, 'rendimiento': 6.5}\n"
          ]
        }
      ]
    },
    {
      "cell_type": "code",
      "source": [
        "nombre_cliente = \"Maria Rodriguez\"\n",
        "rendimiento_total = (\n",
        "    Registro_clientes[nombre_cliente][\"monto_invertido\"] * Registro_clientes[nombre_cliente][\"rendimiento\"] / 100\n",
        ")\n",
        "print(f\"El rendimiento total de {nombre_cliente} es: ${rendimiento_total}\")"
      ],
      "metadata": {
        "colab": {
          "base_uri": "https://localhost:8080/"
        },
        "id": "DEC4I6e_cV_z",
        "outputId": "aa5f4efc-0216-482f-aa7e-cf0e91643b92"
      },
      "execution_count": 22,
      "outputs": [
        {
          "output_type": "stream",
          "name": "stdout",
          "text": [
            "El rendimiento total de Maria Rodriguez es: $975.0\n"
          ]
        }
      ]
    },
    {
      "cell_type": "code",
      "source": [
        "Registro_clientes[\"Carlos Lopez\"][\"monto_invertido\"] = 25000\n",
        "\n",
        "print(\"Monto actualizado correctamente.\")"
      ],
      "metadata": {
        "colab": {
          "base_uri": "https://localhost:8080/"
        },
        "id": "tCOsTNddcm1a",
        "outputId": "891895c3-8017-4540-a611-a44a8ab53305"
      },
      "execution_count": 30,
      "outputs": [
        {
          "output_type": "stream",
          "name": "stdout",
          "text": [
            "Monto actualizado correctamente.\n"
          ]
        }
      ]
    },
    {
      "cell_type": "code",
      "source": [
        "print(\"Antes de la actualización:\", Registro_clientes)"
      ],
      "metadata": {
        "colab": {
          "base_uri": "https://localhost:8080/"
        },
        "id": "Q39clllOeXIl",
        "outputId": "6df83dad-3213-47a7-b0d4-a217a3ca45b9"
      },
      "execution_count": 32,
      "outputs": [
        {
          "output_type": "stream",
          "name": "stdout",
          "text": [
            "Antes de la actualización: {'Juan Perez': {'monto_invertido': 10000, 'rendimiento': 5.0}, 'Maria Rodriguez': {'monto_invertido': 15000, 'rendimiento': 6.5}, 'Carlos Lopez': {'monto_invertido': 20000, 'rendimiento': 7.0}}\n"
          ]
        }
      ]
    },
    {
      "cell_type": "code",
      "source": [
        "Registro_clientes[\"Carlos Lopez\"][\"monto_invertido\"] = 25000"
      ],
      "metadata": {
        "id": "vi7pD2USebpH"
      },
      "execution_count": 33,
      "outputs": []
    },
    {
      "cell_type": "code",
      "source": [
        "print(\"Después de la actualización:\", Registro_clientes)"
      ],
      "metadata": {
        "colab": {
          "base_uri": "https://localhost:8080/"
        },
        "id": "3uosb50JedGa",
        "outputId": "d23cf693-57c2-4e20-f7b0-94c039317796"
      },
      "execution_count": 34,
      "outputs": [
        {
          "output_type": "stream",
          "name": "stdout",
          "text": [
            "Después de la actualización: {'Juan Perez': {'monto_invertido': 10000, 'rendimiento': 5.0}, 'Maria Rodriguez': {'monto_invertido': 15000, 'rendimiento': 6.5}, 'Carlos Lopez': {'monto_invertido': 25000, 'rendimiento': 7.0}}\n"
          ]
        }
      ]
    },
    {
      "cell_type": "code",
      "source": [
        "Registro_clientes[\"Ana Gomez\"] = {\"monto_invertido\": 18000, \"rendimiento\": 5.8}\n"
      ],
      "metadata": {
        "id": "3OQGUL9Uer3h"
      },
      "execution_count": 36,
      "outputs": []
    },
    {
      "cell_type": "code",
      "source": [
        "print(Registro_clientes)"
      ],
      "metadata": {
        "colab": {
          "base_uri": "https://localhost:8080/"
        },
        "id": "wfBJrPS9exeq",
        "outputId": "a46fe5bb-94bb-4c30-a6ed-d49b05ec0075"
      },
      "execution_count": 37,
      "outputs": [
        {
          "output_type": "stream",
          "name": "stdout",
          "text": [
            "{'Juan Perez': {'monto_invertido': 10000, 'rendimiento': 5.0}, 'Maria Rodriguez': {'monto_invertido': 15000, 'rendimiento': 6.5}, 'Carlos Lopez': {'monto_invertido': 25000, 'rendimiento': 7.0}, 'Ana Gomez': {'monto_invertido': 18000, 'rendimiento': 5.8}}\n"
          ]
        }
      ]
    },
    {
      "cell_type": "code",
      "source": [
        "Registro_clientes.pop(\"Juan Perez\", None)"
      ],
      "metadata": {
        "colab": {
          "base_uri": "https://localhost:8080/"
        },
        "id": "OqS0n8Sre3VY",
        "outputId": "b0466629-5d2a-489d-b148-92ab31869b61"
      },
      "execution_count": 38,
      "outputs": [
        {
          "output_type": "execute_result",
          "data": {
            "text/plain": [
              "{'monto_invertido': 10000, 'rendimiento': 5.0}"
            ]
          },
          "metadata": {},
          "execution_count": 38
        }
      ]
    },
    {
      "cell_type": "code",
      "source": [
        "print(Registro_clientes)"
      ],
      "metadata": {
        "colab": {
          "base_uri": "https://localhost:8080/"
        },
        "id": "pVRd0yuifUMs",
        "outputId": "868d02b0-356d-4af8-ff15-81a198844463"
      },
      "execution_count": 39,
      "outputs": [
        {
          "output_type": "stream",
          "name": "stdout",
          "text": [
            "{'Maria Rodriguez': {'monto_invertido': 15000, 'rendimiento': 6.5}, 'Carlos Lopez': {'monto_invertido': 25000, 'rendimiento': 7.0}, 'Ana Gomez': {'monto_invertido': 18000, 'rendimiento': 5.8}}\n"
          ]
        }
      ]
    }
  ]
}