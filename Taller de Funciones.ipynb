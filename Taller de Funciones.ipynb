{
  "nbformat": 4,
  "nbformat_minor": 0,
  "metadata": {
    "colab": {
      "provenance": [],
      "include_colab_link": true
    },
    "kernelspec": {
      "name": "python3",
      "display_name": "Python 3"
    },
    "language_info": {
      "name": "python"
    }
  },
  "cells": [
    {
      "cell_type": "markdown",
      "metadata": {
        "id": "view-in-github",
        "colab_type": "text"
      },
      "source": [
        "<a href=\"https://colab.research.google.com/github/zaraycr/Curso_de_lenguajes_de_programaci-n/blob/main/Taller%20de%20Funciones.ipynb\" target=\"_parent\"><img src=\"https://colab.research.google.com/assets/colab-badge.svg\" alt=\"Open In Colab\"/></a>"
      ]
    },
    {
      "cell_type": "markdown",
      "source": [],
      "metadata": {
        "id": "0DRTWdoELNl6"
      }
    },
    {
      "cell_type": "markdown",
      "source": [
        "##Árbol de calorías\n",
        "\n",
        "Vamos a escribir código que implemente este árbol de decisión e imprima la etiqueta resultante. Utilizaremos este alimento de ejemplo para probar nuestro código"
      ],
      "metadata": {
        "id": "skPtkRrXLimd"
      }
    },
    {
      "cell_type": "code",
      "execution_count": 34,
      "metadata": {
        "id": "H-_nZQCmCO9b"
      },
      "outputs": [],
      "source": [
        "tomate = {\n",
        "    \"tamano_porcion\":125,\n",
        "    \"calorias\":22.5,\n",
        "    \"grasa\":250,\n",
        "    \"sodio\":6.25,\n",
        "    \"azucar\":3.29,\n",
        "    \"fibra\":1.5\n",
        "}"
      ]
    },
    {
      "cell_type": "markdown",
      "source": [
        "## Ejercicio 1"
      ],
      "metadata": {
        "id": "SBrwfJFOL7uH"
      }
    },
    {
      "cell_type": "code",
      "source": [
        "if tomate[\"calorias\"] < 5:\n",
        "    etiqueta_calorias = \"SIN CALORÍAS\"\n",
        "elif tomate[\"calorias\"] < 40:\n",
        "    etiqueta_calorias = \"BAJO EN CALORÍAS\"\n",
        "else:\n",
        "    etiqueta_calorias = None\n",
        "print(etiqueta_calorias)"
      ],
      "metadata": {
        "colab": {
          "base_uri": "https://localhost:8080/"
        },
        "id": "9SdBo7zTL-sl",
        "outputId": "d70bc884-1eea-4509-c085-a77fa51ed217"
      },
      "execution_count": 35,
      "outputs": [
        {
          "output_type": "stream",
          "name": "stdout",
          "text": [
            "BAJO EN CALORÍAS\n"
          ]
        }
      ]
    },
    {
      "cell_type": "markdown",
      "source": [
        "## Ejercicio 2\n",
        "Prueba la función asignar_etiquetas_calorias() utilizando en su lugar el banano."
      ],
      "metadata": {
        "id": "HkgFobfYPKQJ"
      }
    },
    {
      "cell_type": "code",
      "source": [
        "banano = {\n",
        "    \"tamano_porcion\":28,\n",
        "    \"calorias\":94.1,\n",
        "    \"grasa\":300,\n",
        "    \"sodio\":1.96,\n",
        "    \"azucar\":16,\n",
        "    \"fibra\":0.504\n",
        "}"
      ],
      "metadata": {
        "id": "9-ZsavhJX8Q3"
      },
      "execution_count": 36,
      "outputs": []
    },
    {
      "cell_type": "code",
      "source": [
        "def asignar_etiquetas_calorias(alimento):\n",
        "    if alimento[\"calorias\"] < 5:\n",
        "        etiqueta_calorias = \"SIN CALORÍAS\"\n",
        "    elif alimento[\"calorias\"] < 40:\n",
        "        etiqueta_calorias = \"BAJO EN CALORÍAS\"\n",
        "    else:\n",
        "        etiqueta_calorias = None\n",
        "        print(etiqueta_calorias)"
      ],
      "metadata": {
        "id": "K3gaOWLqPNcH"
      },
      "execution_count": 49,
      "outputs": []
    },
    {
      "cell_type": "markdown",
      "source": [
        "##Ejercicio 3\n",
        "Ejecuta help(asignar_etiqueta_calorias). ¿Qué ves?"
      ],
      "metadata": {
        "id": "cDG_F6RVSSU1"
      }
    },
    {
      "cell_type": "code",
      "source": [
        "def help(asignar_etiqueta_calorias):\n",
        "    if alimento[\"calorias\"] < 5:\n",
        "        etiqueta_calorias = \"SIN CALORÍAS\"\n",
        "    elif alimento[\"calorias\"] < 40:\n",
        "        etiqueta_calorias = \"BAJO EN CALORÍAS\"\n",
        "    else:\n",
        "        etiqueta_calorias = None\n",
        "    print(etiqueta_calorias)"
      ],
      "metadata": {
        "id": "dNqn84VyDCOy"
      },
      "execution_count": 88,
      "outputs": []
    },
    {
      "cell_type": "code",
      "source": [
        "def asignar_etiqueta_calorias(alimento):\n",
        "\n",
        "    if alimento[\"calorias\"] < 5:\n",
        "        etiqueta_calorias = \"SIN CALORÍAS\"\n",
        "    elif alimento[\"calorias\"] < 40:\n",
        "        etiqueta_calorias = \"BAJO EN CALORÍAS\"\n",
        "    else:\n",
        "        etiqueta_calorias = None\n",
        "    return etiqueta_calorias"
      ],
      "metadata": {
        "id": "cX8uRNWjDcfw"
      },
      "execution_count": 92,
      "outputs": []
    },
    {
      "cell_type": "code",
      "source": [
        "def asignar_etiqueta_calorias(tomate):\n",
        "    if tomate[\"calorias\"] < 5:\n",
        "        etiqueta_calorias = \"SIN CALORÍAS\"\n",
        "    elif tomate[\"calorias\"] < 40:\n",
        "        etiqueta_calorias = \"BAJO EN CALORÍAS\"\n",
        "    else:\n",
        "        etiqueta_calorias = None\n",
        "    return etiqueta_calorias\n",
        "    print(etiqueta_calorias)"
      ],
      "metadata": {
        "id": "RHEqVj00SXOs"
      },
      "execution_count": 85,
      "outputs": []
    },
    {
      "cell_type": "code",
      "source": [
        "def asignar_etiqueta_calorias(banano):\n",
        "    if banano[\"calorias\"] < 5:\n",
        "        etiqueta_calorias = \"SIN CALORÍAS\"\n",
        "    elif banano[\"calorias\"] < 40:\n",
        "        etiqueta_calorias = \"BAJO EN CALORÍAS\"\n",
        "    else:\n",
        "        etiqueta_calorias = None\n",
        "    return etiqueta_calorias\n",
        "    print(etiqueta_calorias)"
      ],
      "metadata": {
        "id": "wmosyYPcZxI1"
      },
      "execution_count": 86,
      "outputs": []
    },
    {
      "cell_type": "markdown",
      "source": [
        "##Ejercicio 4\n",
        "Crea la función asignar_etiqueta_grasa() para implementar este árbol de decisión."
      ],
      "metadata": {
        "id": "DNxl43J8wrNg"
      }
    },
    {
      "cell_type": "code",
      "source": [
        "def asignar_etiqueta_grasa(alimento):\n",
        "    if alimento[\"grasa\"] < 500: # En miligramos\n",
        "        etiqueta_grasa = \"LIBRE DE GRASA\"\n",
        "    elif alimento[\"grasa\"] < 300: # En miligramos\n",
        "        etiqueta_grasa = \"BAJA EN GRASA\"\n",
        "    else:\n",
        "        etiqueta_grasa = None\n",
        "    print(etiqueta_grasa)"
      ],
      "metadata": {
        "id": "fP1dmLgKAgGD"
      },
      "execution_count": 78,
      "outputs": []
    },
    {
      "cell_type": "code",
      "source": [
        "tomate = {\n",
        "    \"tamano_porcion\":125,\n",
        "    \"calorias\":22.5,\n",
        "    \"grasa\":250, # En miligramos\n",
        "    \"sodio\":6.25,\n",
        "    \"azucar\":3.29,\n",
        "    \"fibra\":1.5\n",
        "}\n",
        "if tomate[\"grasa\"] < 500: # En miligramos\n",
        "  etiqueta_grasa = \"LIBRE DE GRASA\"\n",
        "elif tomate[\"grasa\"] < 300: # En miligramos\n",
        "  etiqueta_grasa = \"BAJA EN GRASA\"\n",
        "else:\n",
        "  etiqueta_grasa = None\n",
        "print(etiqueta_grasa)"
      ],
      "metadata": {
        "colab": {
          "base_uri": "https://localhost:8080/"
        },
        "id": "S8STXWfioo_Q",
        "outputId": "05f8d787-82c4-4795-d6c9-da5ba7659daa"
      },
      "execution_count": 61,
      "outputs": [
        {
          "output_type": "stream",
          "name": "stdout",
          "text": [
            "LIBRE DE GRASA\n"
          ]
        }
      ]
    },
    {
      "cell_type": "code",
      "source": [
        "banano = {\n",
        "    \"tamano_porcion\":28,\n",
        "    \"calorias\":94.1,\n",
        "    \"grasa\":300,\n",
        "    \"sodio\":1.96,\n",
        "    \"azucar\":16,\n",
        "    \"fibra\":0.504\n",
        "}\n",
        "if banano[\"grasa\"] < 500:\n",
        "  etiqueta_grasa = \"LIBRE DE GRASA\"\n",
        "elif banano[\"grasa\"] < 300:\n",
        "  etiqueta_grasa = \"BAJA EN GRASA\"\n",
        "else:\n",
        "  etiqueta_grasa = None\n",
        "print(etiqueta_grasa)"
      ],
      "metadata": {
        "colab": {
          "base_uri": "https://localhost:8080/"
        },
        "id": "V9uDl2Zexm-m",
        "outputId": "cdcbc8f4-0668-4103-aec8-d6f1ef904454"
      },
      "execution_count": 64,
      "outputs": [
        {
          "output_type": "stream",
          "name": "stdout",
          "text": [
            "LIBRE DE GRASA\n"
          ]
        }
      ]
    },
    {
      "cell_type": "markdown",
      "source": [
        "##Ejercicio 5\n",
        "Modifica la función asignar_etiqueta_grasa() para utilizar gramos en lugar de miligramos en los condicionales."
      ],
      "metadata": {
        "id": "4qAGxjgVx3iz"
      }
    },
    {
      "cell_type": "code",
      "source": [
        "tomate = {\n",
        "    \"tamano_porcion\":125,\n",
        "    \"calorias\":22.5,\n",
        "    \"grasa\":0.25, # En gramos\n",
        "    \"sodio\":6.25,\n",
        "    \"azucar\":3.29,\n",
        "    \"fibra\":1.5\n",
        "}\n",
        "if tomate[\"grasa\"] < 0.5: # En gramos\n",
        "  etiqueta_grasa = \"LIBRE DE GRASA\"\n",
        "elif tomate[\"grasa\"] < 0.3: # En gramos\n",
        "  etiqueta_grasa = \"BAJA EN GRASA\"\n",
        "else:\n",
        "  etiqueta_grasa = None\n",
        "print(etiqueta_grasa)"
      ],
      "metadata": {
        "colab": {
          "base_uri": "https://localhost:8080/"
        },
        "id": "NQsg-RXyx5Ov",
        "outputId": "d19a5a84-8f9e-44a8-e3c6-5b82171f9dee"
      },
      "execution_count": 57,
      "outputs": [
        {
          "output_type": "stream",
          "name": "stdout",
          "text": [
            "LIBRE DE GRASA\n"
          ]
        }
      ]
    },
    {
      "cell_type": "code",
      "source": [
        "banano = {\n",
        "    \"tamano_porcion\":28,\n",
        "    \"calorias\":94.1,\n",
        "    \"grasa\":0.3,\n",
        "    \"sodio\":1.96,\n",
        "    \"azucar\":16,\n",
        "    \"fibra\":0.504\n",
        "}\n",
        "if banano[\"grasa\"] < 0.5:\n",
        "  etiqueta_grasa = \"LIBRE DE GRASA\"\n",
        "elif banano[\"grasa\"] < 0.3:\n",
        "  etiqueta_grasa = \"BAJA EN GRASA\"\n",
        "else:\n",
        "  etiqueta_grasa = None\n",
        "print(etiqueta_grasa)"
      ],
      "metadata": {
        "colab": {
          "base_uri": "https://localhost:8080/"
        },
        "id": "4TE0WLg9zpKF",
        "outputId": "cd0234e8-010b-47eb-b2c1-41383398c679"
      },
      "execution_count": null,
      "outputs": [
        {
          "output_type": "stream",
          "name": "stdout",
          "text": [
            "LIBRE DE GRASA\n"
          ]
        }
      ]
    },
    {
      "cell_type": "markdown",
      "source": [
        "##Añadiendo las etiquetas del contenido de azúcar\n"
      ],
      "metadata": {
        "id": "3Afze7xY0gqN"
      }
    },
    {
      "cell_type": "code",
      "source": [
        "def asignar_etiqueta_azucar(alimento):\n",
        "    if alimento[\"azucar\"] < 0.5:\n",
        "        etiqueta_azucar = \"LIBRE DE AZÚCAR\"\n",
        "    else:\n",
        "        etiqueta_azucar = None\n",
        "    return etiqueta_azucar"
      ],
      "metadata": {
        "id": "gzcg43suBjKQ"
      },
      "execution_count": 80,
      "outputs": []
    },
    {
      "cell_type": "code",
      "source": [
        "azucar = {\n",
        "    \"tamano_porcion\":28,\n",
        "    \"calorias\":94.1,\n",
        "    \"grasa\":0.3,\n",
        "    \"sodio\":1.96,\n",
        "    \"azucar\":0.4,\n",
        "    \"fibra\":0.504\n",
        "}\n",
        "def asignar_etiqueta_azucar(azucar):\n",
        "    if azucar[\"azucar\"] < 0.5:\n",
        "        etiqueta_azucar = \"LIBRE DE AZÚCAR\"\n",
        "    else:\n",
        "        etiqueta_azucar = None\n",
        "    return etiqueta_azucar\n",
        "print(asignar_etiqueta_azucar(azucar))"
      ],
      "metadata": {
        "colab": {
          "base_uri": "https://localhost:8080/"
        },
        "id": "gnz4nW4E0jpe",
        "outputId": "4f521d88-8e27-4e1a-92ca-cab945c4bd77"
      },
      "execution_count": null,
      "outputs": [
        {
          "output_type": "stream",
          "name": "stdout",
          "text": [
            "LIBRE DE AZÚCAR\n"
          ]
        }
      ]
    },
    {
      "cell_type": "code",
      "source": [
        "print(asignar_etiqueta_azucar(banano))"
      ],
      "metadata": {
        "colab": {
          "base_uri": "https://localhost:8080/"
        },
        "id": "bdpmoqcq1hfr",
        "outputId": "803d5811-d364-4ca0-ae2b-358806110916"
      },
      "execution_count": null,
      "outputs": [
        {
          "output_type": "stream",
          "name": "stdout",
          "text": [
            "None\n"
          ]
        }
      ]
    },
    {
      "cell_type": "code",
      "source": [
        "print(asignar_etiqueta_azucar(tomate))"
      ],
      "metadata": {
        "colab": {
          "base_uri": "https://localhost:8080/"
        },
        "id": "dcQb1QHp1smH",
        "outputId": "301e4268-6c00-4fd4-997e-a0ca4892e514"
      },
      "execution_count": null,
      "outputs": [
        {
          "output_type": "stream",
          "name": "stdout",
          "text": [
            "None\n"
          ]
        }
      ]
    },
    {
      "cell_type": "code",
      "source": [
        "print(asignar_etiqueta_azucar(azucar))"
      ],
      "metadata": {
        "colab": {
          "base_uri": "https://localhost:8080/"
        },
        "id": "ypSVUmJ410au",
        "outputId": "9e984394-ad82-4a35-a739-73378943be90"
      },
      "execution_count": null,
      "outputs": [
        {
          "output_type": "stream",
          "name": "stdout",
          "text": [
            "LIBRE DE AZÚCAR\n"
          ]
        }
      ]
    },
    {
      "cell_type": "markdown",
      "source": [
        "**Ejercicio 6**\n",
        "\n",
        "Piensa en una estrategia para convertir estas tres funciones en una sola, evitando repetir código innecesariamente. No escribas todavía ningún código, sólo escribe la estrategia que seguirías.\n",
        "\n",
        "**Respuesta**\n",
        "\n",
        "Una estrategia sería crear una función que tome como entrada el diccionario del alimento y devuelva un diccionario con las tres etiquetas (calorías, grasa y azúcar). Dentro de esta función, llamaríamos a las tres funciones que ya tenemos (asignar_etiqueta_calorias, asignar_etiqueta_grasa y asignar_etiqueta_azucar) y almacenaríamos los resultados en el diccionario de salida."
      ],
      "metadata": {
        "id": "6Lp95NUo658L"
      }
    },
    {
      "cell_type": "markdown",
      "source": [
        "**Funciones anónimas**\n",
        "\n",
        "Versión anónima de asignar_etiquetas_fda(alimento)"
      ],
      "metadata": {
        "id": "q6HCiVIT-a5t"
      }
    },
    {
      "cell_type": "code",
      "source": [
        "(lambda alimento: [asignar_etiqueta_calorias(alimento), asignar_etiqueta_grasa(alimento), asignar_etiqueta_azucar(alimento)])(banano)"
      ],
      "metadata": {
        "colab": {
          "base_uri": "https://localhost:8080/"
        },
        "id": "p5MNNPjB69fP",
        "outputId": "dd6f0f62-d623-4f3f-f913-fa09ba9fed80"
      },
      "execution_count": 81,
      "outputs": [
        {
          "output_type": "stream",
          "name": "stdout",
          "text": [
            "LIBRE DE GRASA\n"
          ]
        },
        {
          "output_type": "execute_result",
          "data": {
            "text/plain": [
              "[None, None, None]"
            ]
          },
          "metadata": {},
          "execution_count": 81
        }
      ]
    }
  ]
}