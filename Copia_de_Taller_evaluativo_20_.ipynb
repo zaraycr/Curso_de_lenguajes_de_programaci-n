{
  "nbformat": 4,
  "nbformat_minor": 0,
  "metadata": {
    "colab": {
      "provenance": [],
      "authorship_tag": "ABX9TyPN9nKzhnjMTWDKdGWtq4N8",
      "include_colab_link": true
    },
    "kernelspec": {
      "name": "python3",
      "display_name": "Python 3"
    },
    "language_info": {
      "name": "python"
    }
  },
  "cells": [
    {
      "cell_type": "markdown",
      "metadata": {
        "id": "view-in-github",
        "colab_type": "text"
      },
      "source": [
        "<a href=\"https://colab.research.google.com/github/zaraycr/Curso_de_lenguajes_de_programaci-n/blob/main/Copia_de_Taller_evaluativo_20_.ipynb\" target=\"_parent\"><img src=\"https://colab.research.google.com/assets/colab-badge.svg\" alt=\"Open In Colab\"/></a>"
      ]
    },
    {
      "cell_type": "markdown",
      "source": [
        "**Gestión de Portafolios Financieros**\n",
        "\n",
        "**Parte 1: Declaración de Variables y Listas**"
      ],
      "metadata": {
        "id": "wjzBoB0qMKkX"
      }
    },
    {
      "cell_type": "code",
      "execution_count": 75,
      "metadata": {
        "colab": {
          "base_uri": "https://localhost:8080/"
        },
        "id": "850UUlzB43y6",
        "outputId": "4f3c14ed-688c-4526-8aa8-9986c85e26ee"
      },
      "outputs": [
        {
          "output_type": "stream",
          "name": "stdout",
          "text": [
            "['Juan Perez', 'María Rodriguez', 'Carlos Lopez', 'Ana Gomez']\n",
            "[10000, 15000, 20000, 18000]\n",
            "[5.5, 6.0, 4.0, 7.5]\n"
          ]
        }
      ],
      "source": [
        "clientes = [\"Juan Perez\", \"María Rodriguez\", \"Carlos Lopez\", \"Ana Gomez\"]\n",
        "print(clientes)\n",
        "montos_invertidos = [10000, 15000, 20000, 18000] # en dólares\n",
        "print(montos_invertidos)\n",
        "rendimientos = [5.5, 6.0, 4.0, 7.5] # en porcentaje\n",
        "print(rendimientos)"
      ]
    },
    {
      "cell_type": "markdown",
      "source": [
        "**Tuplas**"
      ],
      "metadata": {
        "id": "WSiMUwODMetB"
      }
    },
    {
      "cell_type": "code",
      "source": [
        "cliente_1 = (\"Juan Perez\", 10000, 5.5)\n",
        "cliente_1"
      ],
      "metadata": {
        "colab": {
          "base_uri": "https://localhost:8080/"
        },
        "id": "YxFhmj8JxIxx",
        "outputId": "8131088b-8d84-4140-886e-0bca74950e2c"
      },
      "execution_count": 53,
      "outputs": [
        {
          "output_type": "execute_result",
          "data": {
            "text/plain": [
              "('Juan Perez', 10000, 5.5)"
            ]
          },
          "metadata": {},
          "execution_count": 53
        }
      ]
    },
    {
      "cell_type": "code",
      "source": [
        "cliente_2 = (\"María Rodriguez\", 15000, 6.0)\n",
        "cliente_2"
      ],
      "metadata": {
        "colab": {
          "base_uri": "https://localhost:8080/"
        },
        "id": "CxxZmisgxQbt",
        "outputId": "583980a3-cb3d-4bf2-b32c-671768dbe230"
      },
      "execution_count": 54,
      "outputs": [
        {
          "output_type": "execute_result",
          "data": {
            "text/plain": [
              "('María Rodriguez', 15000, 6.0)"
            ]
          },
          "metadata": {},
          "execution_count": 54
        }
      ]
    },
    {
      "cell_type": "code",
      "source": [
        "cliente_3 =(\"Carlos Lopez\", 20000, 4.0)\n",
        "cliente_3"
      ],
      "metadata": {
        "colab": {
          "base_uri": "https://localhost:8080/"
        },
        "id": "6jOrQHqOxdwX",
        "outputId": "219969aa-4fbf-49de-884b-4adf21654818"
      },
      "execution_count": 55,
      "outputs": [
        {
          "output_type": "execute_result",
          "data": {
            "text/plain": [
              "('Carlos Lopez', 20000, 4.0)"
            ]
          },
          "metadata": {},
          "execution_count": 55
        }
      ]
    },
    {
      "cell_type": "code",
      "source": [
        "cliente_4 =(\"Ana Gomez\", 18000, 7.5)\n",
        "cliente_4"
      ],
      "metadata": {
        "colab": {
          "base_uri": "https://localhost:8080/"
        },
        "id": "m3ur20rKxq3d",
        "outputId": "eba300d4-f117-4902-f89b-e8f140bd81af"
      },
      "execution_count": 56,
      "outputs": [
        {
          "output_type": "execute_result",
          "data": {
            "text/plain": [
              "('Ana Gomez', 18000, 7.5)"
            ]
          },
          "metadata": {},
          "execution_count": 56
        }
      ]
    },
    {
      "cell_type": "markdown",
      "source": [
        "**Parte 2: Uso de Diccionarios y Condicionales**\n",
        "\n",
        "**Portafolio**"
      ],
      "metadata": {
        "id": "3EDPvd-FM9j8"
      }
    },
    {
      "cell_type": "code",
      "source": [
        "Portafolio = {\n",
        "\n",
        "   \"Juan Perez\": {\"monto_invertido\": 10000, \"rendimiento\": 5.5},\n",
        "   \"Maria Rodriguez\": {\"monto_invertido\": 15000, \"rendimiento\": 6.0},\n",
        "   \"Carlos Lopez\": {\"monto_invertido\": 20000, \"rendimiento\": 4.0},\n",
        "   \"Ana Gomez\" : {\"monto_invertido\": 18000, \"rendimiento\": 7.5}\n",
        "}\n",
        "print(type(Portafolio))\n",
        "print(Portafolio)"
      ],
      "metadata": {
        "colab": {
          "base_uri": "https://localhost:8080/"
        },
        "id": "DuaQkoA5ySeo",
        "outputId": "e7dc84e6-f352-48aa-d110-75d603032f82"
      },
      "execution_count": 76,
      "outputs": [
        {
          "output_type": "stream",
          "name": "stdout",
          "text": [
            "<class 'dict'>\n",
            "{'Juan Perez': {'monto_invertido': 10000, 'rendimiento': 5.5}, 'Maria Rodriguez': {'monto_invertido': 15000, 'rendimiento': 6.0}, 'Carlos Lopez': {'monto_invertido': 20000, 'rendimiento': 4.0}, 'Ana Gomez': {'monto_invertido': 18000, 'rendimiento': 7.5}}\n"
          ]
        }
      ]
    },
    {
      "cell_type": "markdown",
      "source": [
        "**Rendimiento de los clientes mayor a 5%**"
      ],
      "metadata": {
        "id": "pJt41Mk5NzBE"
      }
    },
    {
      "cell_type": "code",
      "source": [
        "print(\"Clientes con rendimiento superior al 5%:\")\n",
        "for Cliente, datos in Portafolio.items():\n",
        "    if datos[\"rendimiento\"] > 5:\n",
        "        print(f\"{Cliente} tiene un rendimiento de {datos['rendimiento']}%\")"
      ],
      "metadata": {
        "colab": {
          "base_uri": "https://localhost:8080/"
        },
        "id": "1n1MBm3o6C2V",
        "outputId": "460c0ae4-fa16-4c0c-80a5-7de1f7be0e45"
      },
      "execution_count": 61,
      "outputs": [
        {
          "output_type": "stream",
          "name": "stdout",
          "text": [
            "Clientes con rendimiento superior al 5%:\n",
            "Juan Perez tiene un rendimiento de 5.5%\n",
            "Maria Rodriguez tiene un rendimiento de 6.0%\n",
            "Ana Gomez tiene un rendimiento de 7.5%\n"
          ]
        }
      ]
    },
    {
      "cell_type": "markdown",
      "source": [
        "**Parte 3: Cálculos con Ciclos**\n",
        "\n",
        "**Rendimiento Total del Potafolio**"
      ],
      "metadata": {
        "id": "LBWz0VAaN3w1"
      }
    },
    {
      "cell_type": "code",
      "source": [
        "rendimiento_total = 0\n",
        "for cliente, datos in Portafolio.items():\n",
        "    rendimiento_cliente = (datos[\"monto_invertido\"] * datos[\"rendimiento\"]) / 100\n",
        "    rendimiento_total += rendimiento_cliente\n",
        "\n",
        "print(f\"El rendimiento total del portafolio es: ${rendimiento_total:.2f}\")"
      ],
      "metadata": {
        "colab": {
          "base_uri": "https://localhost:8080/"
        },
        "id": "D8BV3PWt6hW9",
        "outputId": "dba9e1a8-7942-4ecf-e854-bc0bc824de35"
      },
      "execution_count": 48,
      "outputs": [
        {
          "output_type": "stream",
          "name": "stdout",
          "text": [
            "El rendimiento total del portafolio es: $3946.00\n"
          ]
        }
      ]
    },
    {
      "cell_type": "markdown",
      "source": [
        "**Cliente con Mayor Rendimiento**"
      ],
      "metadata": {
        "id": "EHAUoSFqOZvd"
      }
    },
    {
      "cell_type": "code",
      "source": [
        "ingreso_mayor = 0\n",
        "cliente_mayor_rendimiento = \"\"\n",
        "for cliente, datos in Portafolio.items():\n",
        "    rendimiento_cliente = (datos[\"monto_invertido\"] * datos[\"rendimiento\"]) / 100\n",
        "    if rendimiento_cliente > ingreso_mayor:\n",
        "        ingreso_mayor = rendimiento_cliente\n",
        "        cliente_mayor_rendimiento = cliente\n",
        "\n",
        "print(f\"El cliente con mayor rendimiento absoluto en dolares es {cliente_mayor_rendimiento} con un rendimiento de ${ingreso_mayor:.2f}\")"
      ],
      "metadata": {
        "colab": {
          "base_uri": "https://localhost:8080/"
        },
        "id": "jgeNYzBb7Dkz",
        "outputId": "4b99a1d6-419c-4007-a6ae-bfb3f002801a"
      },
      "execution_count": 79,
      "outputs": [
        {
          "output_type": "stream",
          "name": "stdout",
          "text": [
            "El cliente con mayor rendimiento absoluto en dolares es Ana Gomez con un rendimiento de $1350.00\n"
          ]
        }
      ]
    },
    {
      "cell_type": "markdown",
      "source": [
        "**Parte 4: Modificaciones del Portadolio**\n",
        "\n",
        "**Actualizar el Monto Invertido de Carlos Lopez**"
      ],
      "metadata": {
        "id": "3cBiQ3r-PhX8"
      }
    },
    {
      "cell_type": "code",
      "source": [
        "monto_invertido=25000\n",
        "for cliente, datos in Portafolio.items():\n",
        "    if cliente == \"Carlos Lopez\":\n",
        "        datos[\"montos_invertidos\"] = monto_invertido\n",
        "        print(f\"El monto invertido de Carlos Lopez se ha actualizado a $ {monto_invertido}\")"
      ],
      "metadata": {
        "id": "Z8V1gkvB-FLt",
        "colab": {
          "base_uri": "https://localhost:8080/"
        },
        "outputId": "02e38cba-c11b-4a5c-9142-3494d0645aa5"
      },
      "execution_count": 107,
      "outputs": [
        {
          "output_type": "stream",
          "name": "stdout",
          "text": [
            "El monto invertido de Carlos Lopez se ha actualizado a $ 25000\n"
          ]
        }
      ]
    },
    {
      "cell_type": "markdown",
      "source": [
        "**Añadir un Nuevo Cliente al Portafolio**"
      ],
      "metadata": {
        "id": "T4YPAH53TSNu"
      }
    },
    {
      "cell_type": "code",
      "source": [
        "Portafolio[\"Laura Fernandez\"] = {\"monto_invertido\": 22000, \"rendimiento\": 6.8}\n",
        "\n",
        "print(\"\\nPortafolio actualizado:\")\n",
        "for cliente, datos in Portafolio.items():\n",
        "    print(f\"{cliente}: Monto Invertido: ${datos['monto_invertido']:,.2f}, Rendimiento: {datos['rendimiento']}%\")"
      ],
      "metadata": {
        "id": "kzFJWLLm9tSw",
        "colab": {
          "base_uri": "https://localhost:8080/"
        },
        "outputId": "bae4ce65-bb6e-4ffc-b235-3b5c16dd60dc"
      },
      "execution_count": 108,
      "outputs": [
        {
          "output_type": "stream",
          "name": "stdout",
          "text": [
            "\n",
            "Portafolio actualizado:\n",
            "Juan Perez: Monto Invertido: $10,000.00, Rendimiento: 5.5%\n",
            "Maria Rodriguez: Monto Invertido: $15,000.00, Rendimiento: 6.0%\n",
            "Carlos Lopez: Monto Invertido: $25,000.00, Rendimiento: 4.0%\n",
            "Ana Gomez: Monto Invertido: $18,000.00, Rendimiento: 7.5%\n",
            "Laura Fernandez: Monto Invertido: $22,000.00, Rendimiento: 6.8%\n"
          ]
        }
      ]
    },
    {
      "cell_type": "markdown",
      "source": [
        "**Remover a un Cliente del Portafolio**"
      ],
      "metadata": {
        "id": "mq6RfRvvUn79"
      }
    },
    {
      "cell_type": "code",
      "source": [
        "if \"Ana Gomez\" in Portafolio:\n",
        "    del Portafolio[\"Ana Gomez\"]\n",
        "    print(\"Ana Gomez ha sido eliminada del portafolio.\")\n",
        "else:\n",
        "    print(\"Ana Gomez no se encuentra en el portafolio.\")\n",
        "\n",
        "print(\"\\nPortafolio actualizado:\")\n",
        "for cliente, datos in Portafolio.items():\n",
        "    print(f\"{cliente}: Monto Invertido: ${datos['monto_invertido']:,.2f}, Rendimiento: {datos['rendimiento']}%\")"
      ],
      "metadata": {
        "colab": {
          "base_uri": "https://localhost:8080/"
        },
        "id": "xoo2cc-q92br",
        "outputId": "048dbe53-f1e9-4a86-a51e-41f7660e9371"
      },
      "execution_count": 115,
      "outputs": [
        {
          "output_type": "stream",
          "name": "stdout",
          "text": [
            "Ana Gomez no se encuentra en el portafolio.\n",
            "\n",
            "Portafolio actualizado:\n",
            "Juan Perez: Monto Invertido: $10,000.00, Rendimiento: 5.5%\n",
            "Maria Rodriguez: Monto Invertido: $15,000.00, Rendimiento: 6.0%\n",
            "Carlos Lopez: Monto Invertido: $25,000.00, Rendimiento: 4.0%\n",
            "Laura Fernandez: Monto Invertido: $22,000.00, Rendimiento: 6.8%\n"
          ]
        }
      ]
    }
  ]
}