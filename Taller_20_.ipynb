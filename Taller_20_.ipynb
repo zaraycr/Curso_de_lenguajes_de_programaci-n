{
  "nbformat": 4,
  "nbformat_minor": 0,
  "metadata": {
    "colab": {
      "provenance": [],
      "authorship_tag": "ABX9TyOfdVKiVzc5UyG9nyIqYBqi",
      "include_colab_link": true
    },
    "kernelspec": {
      "name": "python3",
      "display_name": "Python 3"
    },
    "language_info": {
      "name": "python"
    }
  },
  "cells": [
    {
      "cell_type": "markdown",
      "metadata": {
        "id": "view-in-github",
        "colab_type": "text"
      },
      "source": [
        "<a href=\"https://colab.research.google.com/github/zaraycr/Curso_de_lenguajes_de_programaci-n/blob/main/Taller_20_.ipynb\" target=\"_parent\"><img src=\"https://colab.research.google.com/assets/colab-badge.svg\" alt=\"Open In Colab\"/></a>"
      ]
    },
    {
      "cell_type": "markdown",
      "source": [],
      "metadata": {
        "id": "-Xyx5vqAwEHk"
      }
    },
    {
      "cell_type": "markdown",
      "source": [
        "#Valor Presente Neto (VPN)\n",
        "\n",
        "El Valor Presente Neto (VPN) es una medida financiera que permite evaluar la rentabilidad de un proyecto. Se calcula como la diferencia entre el valor presente de los flujos de caja futuros y la inversión inicial.\n",
        "\n",
        "Si el VPN es positivo, significa que el proyecto generará más beneficios de los que cuesta, por lo que es rentable. Si es negativo, el proyecto no es viable financieramente.\n"
      ],
      "metadata": {
        "id": "y6JxaUaLwF2L"
      }
    },
    {
      "cell_type": "markdown",
      "source": [
        "## Fórmula del Valor Presente Neto (VPN)\n",
        "La fórmula del VPN se expresa de la siguiente manera:\n",
        "\n",
        "\\[\n",
        "$$\n",
        "VPN = \\sum_{t=0}^{n} \\frac{C_t}{(1+r)^t} - C_0\n",
        "$$\n",
        "\n",
        "\\]\n",
        "\n",
        "Donde:\n",
        "- \\(C_t\\) es el flujo de caja en el tiempo \\(t\\).\n",
        "- \\(r\\) es la tasa de descuento.\n",
        "- \\(n\\) es el número total de periodos.\n",
        "- \\(C_0\\) es la inversión inicial.\n",
        "\n",
        "## Interpretación\n",
        "\n",
        "- Si \\(VPN > 0\\), la inversión es rentable.\n",
        "- Si \\(VPN < 0\\), la inversión no es rentable.\n",
        "- Si \\(VPN = 0\\), la inversión no genera ni pérdidas ni ganancias."
      ],
      "metadata": {
        "id": "0V71k9nboEoT"
      }
    },
    {
      "cell_type": "code",
      "source": [],
      "metadata": {
        "id": "9D2Tj49MwFUc"
      },
      "execution_count": null,
      "outputs": []
    },
    {
      "cell_type": "markdown",
      "source": [
        "##**Proyecto para el cálculo del VPN**\n",
        "\n",
        "Natalita SAS es una empresa dedicada a la venta de café gourmet, está evaluando la apertura de una nueva sucursal en una zona comercial de alto tráfico. Para ello, se requiere una inversión inicial de $15,000 destinada a la adecuación del local, compra de maquinaria y contratación de personal.\n",
        "\n",
        "Se proyecta que la nueva sucursal genere flujos de caja anuales de $5,000 durante los próximos tres años. La empresa ha estimado una tasa de descuento del 6% para evaluar la rentabilidad del proyecto.\n",
        "\n",
        "Estructura financiera:\n",
        "\n",
        "Inversión inicial: $15,000\n",
        "\n",
        "Flujo de caja esperado por año: $5,000\n",
        "\n",
        "Duración del proyecto: 3 años\n",
        "\n",
        "Tasa de descuento: 6%"
      ],
      "metadata": {
        "id": "PvfdzwZ9olh7"
      }
    },
    {
      "cell_type": "code",
      "source": [
        "inversion_inicial = 15000\n",
        "flujo_ano_1 = 5000\n",
        "flujo_ano_2 = 5000\n",
        "flujo_ano_3 = 5000\n",
        "tasa_descuento = 0.06"
      ],
      "metadata": {
        "id": "_o_iSVVtqo1B"
      },
      "execution_count": 10,
      "outputs": []
    },
    {
      "cell_type": "code",
      "source": [
        "vpn = (flujo_ano_1 / (1 + tasa_descuento)**1) + \\\n",
        "      (flujo_ano_2 / (1 + tasa_descuento)**2) + \\\n",
        "      (flujo_ano_3 / (1 + tasa_descuento)**3) - inversion_inicial\n",
        "\n",
        "print(\"El Valor Presente Neto (VPN) es:\", vpn)"
      ],
      "metadata": {
        "colab": {
          "base_uri": "https://localhost:8080/"
        },
        "id": "D1X_46Zwr48p",
        "outputId": "82f9a5eb-ed66-4423-95fa-033f8c38cf1b"
      },
      "execution_count": 11,
      "outputs": [
        {
          "output_type": "stream",
          "name": "stdout",
          "text": [
            "El Valor Presente Neto (VPN) es: -1634.9402526918202\n"
          ]
        }
      ]
    },
    {
      "cell_type": "code",
      "source": [],
      "metadata": {
        "id": "j8-XV5S1pFWE"
      },
      "execution_count": null,
      "outputs": []
    },
    {
      "cell_type": "code",
      "source": [
        "if vpn > 0:\n",
        "    print(\"El proyecto es viable, ya que el VPN es positivo.\")\n",
        "else:\n",
        "    print(\"El proyecto no es viable, ya que el VPN es negativo.\")"
      ],
      "metadata": {
        "colab": {
          "base_uri": "https://localhost:8080/"
        },
        "id": "asl5RV28sZRn",
        "outputId": "def03218-97b0-4ddb-a9f4-ad060256cf92"
      },
      "execution_count": 3,
      "outputs": [
        {
          "output_type": "stream",
          "name": "stdout",
          "text": [
            "El proyecto no es viable, ya que el VPN es negativo.\n"
          ]
        }
      ]
    },
    {
      "cell_type": "code",
      "source": [],
      "metadata": {
        "id": "rBpEsq0bsfvS"
      },
      "execution_count": null,
      "outputs": []
    }
  ]
}