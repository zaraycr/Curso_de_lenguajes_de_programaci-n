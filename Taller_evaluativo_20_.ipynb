{
  "nbformat": 4,
  "nbformat_minor": 0,
  "metadata": {
    "colab": {
      "provenance": [],
      "authorship_tag": "ABX9TyN3XnDCQtn70Lk4sODxZAS0",
      "include_colab_link": true
    },
    "kernelspec": {
      "name": "python3",
      "display_name": "Python 3"
    },
    "language_info": {
      "name": "python"
    }
  },
  "cells": [
    {
      "cell_type": "markdown",
      "metadata": {
        "id": "view-in-github",
        "colab_type": "text"
      },
      "source": [
        "<a href=\"https://colab.research.google.com/github/zaraycr/Curso_de_lenguajes_de_programaci-n/blob/main/Taller_evaluativo_20_.ipynb\" target=\"_parent\"><img src=\"https://colab.research.google.com/assets/colab-badge.svg\" alt=\"Open In Colab\"/></a>"
      ]
    },
    {
      "cell_type": "code",
      "execution_count": 18,
      "metadata": {
        "colab": {
          "base_uri": "https://localhost:8080/"
        },
        "id": "850UUlzB43y6",
        "outputId": "e70f08dc-9797-4f6d-aee9-58a0a14a5be3"
      },
      "outputs": [
        {
          "output_type": "stream",
          "name": "stdout",
          "text": [
            "['Juan Perez', 'María Rodriguez', 'Carlos Lopez', 'Ana Gomez']\n",
            "[10000, 15000, 20000, 18000]\n",
            "[5.5, 6.0, 4.0, 7.5]\n"
          ]
        }
      ],
      "source": [
        "Clientes = [\"Juan Perez\", \"María Rodriguez\", \"Carlos Lopez\", \"Ana Gomez\"]\n",
        "print(Clientes)\n",
        "Montos_invertidos = [10000, 15000, 20000, 18000] # en dólares\n",
        "print(Montos_invertidos)\n",
        "Rendimientos = [5.5, 6.0, 4.0, 7.5] # en porcentaje\n",
        "print(Rendimientos)"
      ]
    },
    {
      "cell_type": "code",
      "source": [
        "Cliente_1 = (\"Juan Perez\", 100000, 5.5)\n",
        "\n",
        "Cliente_1"
      ],
      "metadata": {
        "colab": {
          "base_uri": "https://localhost:8080/"
        },
        "id": "YxFhmj8JxIxx",
        "outputId": "4bc2f5c1-22ef-48b1-fabb-2c1ec76d7436"
      },
      "execution_count": 9,
      "outputs": [
        {
          "output_type": "execute_result",
          "data": {
            "text/plain": [
              "('Juan Perez', 100000, 5.5)"
            ]
          },
          "metadata": {},
          "execution_count": 9
        }
      ]
    },
    {
      "cell_type": "code",
      "source": [
        "Cliente_2 = (\"María Rodriguez\", 15000, 6.0)\n",
        "\n",
        "Cliente_2"
      ],
      "metadata": {
        "colab": {
          "base_uri": "https://localhost:8080/"
        },
        "id": "CxxZmisgxQbt",
        "outputId": "8f822181-782f-4447-ad81-9b62e830b0ef"
      },
      "execution_count": 10,
      "outputs": [
        {
          "output_type": "execute_result",
          "data": {
            "text/plain": [
              "('María Rodriguez', 15000, 6.0)"
            ]
          },
          "metadata": {},
          "execution_count": 10
        }
      ]
    },
    {
      "cell_type": "code",
      "source": [
        "Cliente_3 =(\"Carlos Lopez\", 20000, 4.0)\n",
        "\n",
        "Cliente_3"
      ],
      "metadata": {
        "colab": {
          "base_uri": "https://localhost:8080/"
        },
        "id": "6jOrQHqOxdwX",
        "outputId": "88f293f7-7e3f-4fda-cdbd-efaaeeec05e7"
      },
      "execution_count": 11,
      "outputs": [
        {
          "output_type": "execute_result",
          "data": {
            "text/plain": [
              "('Carlos Lopez', 20000, 4.0)"
            ]
          },
          "metadata": {},
          "execution_count": 11
        }
      ]
    },
    {
      "cell_type": "code",
      "source": [
        "Cliente_4 =(\"Ana Gomez\", 18000, 7.5)\n",
        "\n",
        "Cliente_4"
      ],
      "metadata": {
        "colab": {
          "base_uri": "https://localhost:8080/"
        },
        "id": "m3ur20rKxq3d",
        "outputId": "ac4d2538-2be8-44b4-e989-9d399b1e279a"
      },
      "execution_count": 12,
      "outputs": [
        {
          "output_type": "execute_result",
          "data": {
            "text/plain": [
              "('Ana Gomez', 18000, 7.5)"
            ]
          },
          "metadata": {},
          "execution_count": 12
        }
      ]
    },
    {
      "cell_type": "code",
      "source": [
        "Portafolio = {\n",
        "\n",
        "   \"Juan Perez\": {\"monto_invertido\": 10000, \"rendimiento\": 5.5},\n",
        "   \"Maria Rodriguez\": {\"monto_invertido\": 15000, \"rendimiento\": 6.0},\n",
        "   \"Carlos Lopez\": {\"monto_invertido\": 20000, \"rendimiento\": 4.0},\n",
        "   \"Ana Gomez\" : {\"monto_invertido\": 18000, \"rendimiento\": 7.5}\n",
        "}\n",
        "\n",
        "print(Portafolio)"
      ],
      "metadata": {
        "colab": {
          "base_uri": "https://localhost:8080/"
        },
        "id": "DuaQkoA5ySeo",
        "outputId": "57b31bc2-62c0-434a-c705-5d7b4deac521"
      },
      "execution_count": 14,
      "outputs": [
        {
          "output_type": "stream",
          "name": "stdout",
          "text": [
            "{'Juan Perez': {'monto_invertido': 10000, 'rendimiento': 5.5}, 'Maria Rodriguez': {'monto_invertido': 15000, 'rendimiento': 6.0}, 'Carlos Lopez': {'monto_invertido': 20000, 'rendimiento': 4.0}, 'Ana Gomez': {'monto_invertido': 18000, 'rendimiento': 7.5}}\n"
          ]
        }
      ]
    },
    {
      "cell_type": "code",
      "source": [
        "print(\"Clientes con rendimiento superior al 5%:\")\n",
        "for Cliente, datos in Portafolio.items():\n",
        "    if datos[\"rendimiento\"] > 5:\n",
        "        print(f\"{Cliente} tiene un rendimiento de {datos['rendimiento']}%\")"
      ],
      "metadata": {
        "colab": {
          "base_uri": "https://localhost:8080/"
        },
        "id": "1n1MBm3o6C2V",
        "outputId": "7f78fbac-3b69-4dd4-8081-48f10d4b400d"
      },
      "execution_count": 35,
      "outputs": [
        {
          "output_type": "stream",
          "name": "stdout",
          "text": [
            "Clientes con rendimiento superior al 5%:\n",
            "Juan Perez tiene un rendimiento de 5.5%\n",
            "Maria Rodriguez tiene un rendimiento de 6.0%\n",
            "Ana Gomez tiene un rendimiento de 7.5%\n"
          ]
        }
      ]
    },
    {
      "cell_type": "code",
      "source": [
        "rendimiento_total = 0\n",
        "for Cliente, datos in Portafolio.items():\n",
        "    rendimiento_cliente = (datos[\"monto_invertido\"] * datos[\"rendimiento\"]) / 100\n",
        "    rendimiento_total += rendimiento_cliente\n",
        "\n",
        "print(f\"El rendimiento total del portafolio es: ${rendimiento_total:.2f}\")"
      ],
      "metadata": {
        "colab": {
          "base_uri": "https://localhost:8080/"
        },
        "id": "D8BV3PWt6hW9",
        "outputId": "c4f68da0-131b-4ba7-9f24-ba61863a8704"
      },
      "execution_count": 34,
      "outputs": [
        {
          "output_type": "stream",
          "name": "stdout",
          "text": [
            "El rendimiento total del portafolio es: $3600.00\n"
          ]
        }
      ]
    },
    {
      "cell_type": "code",
      "source": [
        "ingreso_mayor = 0\n",
        "cliente_top = \"\"\n",
        "for cliente, datos in Portafolio.items():\n",
        "    rendimiento_cliente = (datos[\"monto_invertido\"] * datos[\"rendimiento\"]) / 100\n",
        "    if rendimiento_cliente > ingreso_mayor:\n",
        "        ingreso_mayor = rendimiento_cliente\n",
        "        cliente_top = cliente\n",
        "\n",
        "print(f\"El cliente con mayor rendimiento absoluto es {cliente_top} con un rendimiento de ${ingreso_mayor:.2f}\")"
      ],
      "metadata": {
        "colab": {
          "base_uri": "https://localhost:8080/"
        },
        "id": "jgeNYzBb7Dkz",
        "outputId": "61e27646-9e81-42d1-dbda-599b75beeb7c"
      },
      "execution_count": 38,
      "outputs": [
        {
          "output_type": "stream",
          "name": "stdout",
          "text": [
            "El cliente con mayor rendimiento absoluto es Ana Gomez con un rendimiento de $1350.00\n"
          ]
        }
      ]
    },
    {
      "cell_type": "code",
      "source": [
        "Portafolio[\"Carlos Lopez\"][\"monto_invertido\"] = 25000"
      ],
      "metadata": {
        "id": "Z8V1gkvB-FLt"
      },
      "execution_count": 46,
      "outputs": []
    },
    {
      "cell_type": "code",
      "source": [
        "Portafolio[\"Laura Fernandez\"] = {\"monto_invertido\": 22000, \"rendimiento\": 6.8}"
      ],
      "metadata": {
        "id": "kzFJWLLm9tSw"
      },
      "execution_count": 47,
      "outputs": []
    },
    {
      "cell_type": "code",
      "source": [
        "if \"Ana Gomez\" in Portafolio:\n",
        "    del Portafolio[\"Ana Gomez\"]\n",
        "\n",
        "print(\"\\nPortafolio actualizado:\")\n",
        "for cliente, datos in Portafolio.items():\n",
        "    print(f\"{cliente}: {datos}\")"
      ],
      "metadata": {
        "colab": {
          "base_uri": "https://localhost:8080/"
        },
        "id": "xoo2cc-q92br",
        "outputId": "ca33b56c-4326-4acb-d104-159028308bc8"
      },
      "execution_count": 50,
      "outputs": [
        {
          "output_type": "stream",
          "name": "stdout",
          "text": [
            "\n",
            "Portafolio actualizado:\n",
            "Juan Perez: {'monto_invertido': 10000, 'rendimiento': 5.5}\n",
            "Maria Rodriguez: {'monto_invertido': 15000, 'rendimiento': 6.0}\n",
            "Carlos Lopez: {'monto_invertido': 25000, 'rendimiento': 4.0}\n",
            "Laura Fernandez: {'monto_invertido': 22000, 'rendimiento': 6.8}\n"
          ]
        }
      ]
    }
  ]
}